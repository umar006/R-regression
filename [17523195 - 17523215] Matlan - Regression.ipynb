{
 "cells": [
  {
   "cell_type": "code",
   "execution_count": 2,
   "metadata": {},
   "outputs": [
    {
     "data": {
      "text/html": [
       "<table>\n",
       "<thead><tr><th scope=col>City</th><th scope=col>Area</th><th scope=col>Pop.1980</th><th scope=col>Pop.1990</th><th scope=col>Pop.2000</th><th scope=col>Growth</th><th scope=col>Food</th></tr></thead>\n",
       "<tbody>\n",
       "\t<tr><td>Buenos Aires  </td><td> 700.0        </td><td> 9918         </td><td>11448         </td><td>12822         </td><td>1.4           </td><td>40            </td></tr>\n",
       "\t<tr><td>Dhaka         </td><td> 100.0        </td><td> 3290         </td><td> 6578         </td><td>11511         </td><td>7.2           </td><td>63            </td></tr>\n",
       "\t<tr><td>Rio de Janeiro</td><td> 650.0        </td><td> 8789         </td><td>10948         </td><td>12162         </td><td>2.2           </td><td>26            </td></tr>\n",
       "\t<tr><td>Sao Paolo     </td><td> 800.0        </td><td>12101         </td><td>18119         </td><td>22552         </td><td>4.1           </td><td>50            </td></tr>\n",
       "\t<tr><td>Beijing       </td><td>1680.0        </td><td> 9029         </td><td>10867         </td><td>14366         </td><td>1.9           </td><td>52            </td></tr>\n",
       "\t<tr><td>Shanghai      </td><td> 630.0        </td><td>11739         </td><td>13447         </td><td>17407         </td><td>1.4           </td><td>55            </td></tr>\n",
       "\t<tr><td>Tianjin       </td><td> 400.0        </td><td> 7268         </td><td> 9249         </td><td>12508         </td><td>2.4           </td><td>52            </td></tr>\n",
       "\t<tr><td>Cairo         </td><td>  21.4        </td><td> 6852         </td><td> 8633         </td><td>10761         </td><td>2.3           </td><td>47            </td></tr>\n",
       "\t<tr><td>Bombay        </td><td>  60.0        </td><td> 8067         </td><td>12223         </td><td>18142         </td><td>4.2           </td><td>57            </td></tr>\n",
       "\t<tr><td>Calcutta      </td><td> 130.0        </td><td> 9030         </td><td>10741         </td><td>12675         </td><td>1.8           </td><td>60            </td></tr>\n",
       "\t<tr><td>Delhi         </td><td>  59.1        </td><td> 5559         </td><td> 8171         </td><td>11692         </td><td>3.9           </td><td>40            </td></tr>\n",
       "\t<tr><td>Jakarta       </td><td>  59.0        </td><td> 5985         </td><td> 9206         </td><td>13380         </td><td>4.4           </td><td>45            </td></tr>\n",
       "\t<tr><td>Osaka         </td><td> 200.0        </td><td> 9990         </td><td>10482         </td><td>10601         </td><td>0.5           </td><td>18            </td></tr>\n",
       "\t<tr><td>Tokyo         </td><td> 216.0        </td><td>21854         </td><td>25013         </td><td>27956         </td><td>1.4           </td><td>18            </td></tr>\n",
       "\t<tr><td>Seoul         </td><td> 165.0        </td><td> 8283         </td><td>10979         </td><td>12949         </td><td>2.9           </td><td>34            </td></tr>\n",
       "\t<tr><td>Mexico City   </td><td> 250.0        </td><td>13888         </td><td>15085         </td><td>16190         </td><td>0.8           </td><td>41            </td></tr>\n",
       "\t<tr><td>Lagos         </td><td>  40.0        </td><td> 4385         </td><td> 7742         </td><td>13480         </td><td>5.8           </td><td>58            </td></tr>\n",
       "\t<tr><td>Karachi       </td><td> 353.0        </td><td> 5023         </td><td> 7943         </td><td>11895         </td><td>4.7           </td><td>43            </td></tr>\n",
       "\t<tr><td>Manila        </td><td>  64.0        </td><td> 5966         </td><td> 8882         </td><td>12582         </td><td>4.1           </td><td>38            </td></tr>\n",
       "\t<tr><td>Los Angeles   </td><td>1660.0        </td><td> 9523         </td><td>11456         </td><td>13151         </td><td>1.9           </td><td>12            </td></tr>\n",
       "\t<tr><td>New York      </td><td> 359.0        </td><td>15601         </td><td>16056         </td><td>16645         </td><td>0.3           </td><td>16            </td></tr>\n",
       "</tbody>\n",
       "</table>\n"
      ],
      "text/latex": [
       "\\begin{tabular}{r|lllllll}\n",
       " City & Area & Pop.1980 & Pop.1990 & Pop.2000 & Growth & Food\\\\\n",
       "\\hline\n",
       "\t Buenos Aires   &  700.0         &  9918          & 11448          & 12822          & 1.4            & 40            \\\\\n",
       "\t Dhaka          &  100.0         &  3290          &  6578          & 11511          & 7.2            & 63            \\\\\n",
       "\t Rio de Janeiro &  650.0         &  8789          & 10948          & 12162          & 2.2            & 26            \\\\\n",
       "\t Sao Paolo      &  800.0         & 12101          & 18119          & 22552          & 4.1            & 50            \\\\\n",
       "\t Beijing        & 1680.0         &  9029          & 10867          & 14366          & 1.9            & 52            \\\\\n",
       "\t Shanghai       &  630.0         & 11739          & 13447          & 17407          & 1.4            & 55            \\\\\n",
       "\t Tianjin        &  400.0         &  7268          &  9249          & 12508          & 2.4            & 52            \\\\\n",
       "\t Cairo          &   21.4         &  6852          &  8633          & 10761          & 2.3            & 47            \\\\\n",
       "\t Bombay         &   60.0         &  8067          & 12223          & 18142          & 4.2            & 57            \\\\\n",
       "\t Calcutta       &  130.0         &  9030          & 10741          & 12675          & 1.8            & 60            \\\\\n",
       "\t Delhi          &   59.1         &  5559          &  8171          & 11692          & 3.9            & 40            \\\\\n",
       "\t Jakarta        &   59.0         &  5985          &  9206          & 13380          & 4.4            & 45            \\\\\n",
       "\t Osaka          &  200.0         &  9990          & 10482          & 10601          & 0.5            & 18            \\\\\n",
       "\t Tokyo          &  216.0         & 21854          & 25013          & 27956          & 1.4            & 18            \\\\\n",
       "\t Seoul          &  165.0         &  8283          & 10979          & 12949          & 2.9            & 34            \\\\\n",
       "\t Mexico City    &  250.0         & 13888          & 15085          & 16190          & 0.8            & 41            \\\\\n",
       "\t Lagos          &   40.0         &  4385          &  7742          & 13480          & 5.8            & 58            \\\\\n",
       "\t Karachi        &  353.0         &  5023          &  7943          & 11895          & 4.7            & 43            \\\\\n",
       "\t Manila         &   64.0         &  5966          &  8882          & 12582          & 4.1            & 38            \\\\\n",
       "\t Los Angeles    & 1660.0         &  9523          & 11456          & 13151          & 1.9            & 12            \\\\\n",
       "\t New York       &  359.0         & 15601          & 16056          & 16645          & 0.3            & 16            \\\\\n",
       "\\end{tabular}\n"
      ],
      "text/markdown": [
       "\n",
       "City | Area | Pop.1980 | Pop.1990 | Pop.2000 | Growth | Food | \n",
       "|---|---|---|---|---|---|---|---|---|---|---|---|---|---|---|---|---|---|---|---|---|\n",
       "| Buenos Aires   |  700.0         |  9918          | 11448          | 12822          | 1.4            | 40             | \n",
       "| Dhaka          |  100.0         |  3290          |  6578          | 11511          | 7.2            | 63             | \n",
       "| Rio de Janeiro |  650.0         |  8789          | 10948          | 12162          | 2.2            | 26             | \n",
       "| Sao Paolo      |  800.0         | 12101          | 18119          | 22552          | 4.1            | 50             | \n",
       "| Beijing        | 1680.0         |  9029          | 10867          | 14366          | 1.9            | 52             | \n",
       "| Shanghai       |  630.0         | 11739          | 13447          | 17407          | 1.4            | 55             | \n",
       "| Tianjin        |  400.0         |  7268          |  9249          | 12508          | 2.4            | 52             | \n",
       "| Cairo          |   21.4         |  6852          |  8633          | 10761          | 2.3            | 47             | \n",
       "| Bombay         |   60.0         |  8067          | 12223          | 18142          | 4.2            | 57             | \n",
       "| Calcutta       |  130.0         |  9030          | 10741          | 12675          | 1.8            | 60             | \n",
       "| Delhi          |   59.1         |  5559          |  8171          | 11692          | 3.9            | 40             | \n",
       "| Jakarta        |   59.0         |  5985          |  9206          | 13380          | 4.4            | 45             | \n",
       "| Osaka          |  200.0         |  9990          | 10482          | 10601          | 0.5            | 18             | \n",
       "| Tokyo          |  216.0         | 21854          | 25013          | 27956          | 1.4            | 18             | \n",
       "| Seoul          |  165.0         |  8283          | 10979          | 12949          | 2.9            | 34             | \n",
       "| Mexico City    |  250.0         | 13888          | 15085          | 16190          | 0.8            | 41             | \n",
       "| Lagos          |   40.0         |  4385          |  7742          | 13480          | 5.8            | 58             | \n",
       "| Karachi        |  353.0         |  5023          |  7943          | 11895          | 4.7            | 43             | \n",
       "| Manila         |   64.0         |  5966          |  8882          | 12582          | 4.1            | 38             | \n",
       "| Los Angeles    | 1660.0         |  9523          | 11456          | 13151          | 1.9            | 12             | \n",
       "| New York       |  359.0         | 15601          | 16056          | 16645          | 0.3            | 16             | \n",
       "\n",
       "\n"
      ],
      "text/plain": [
       "   City           Area   Pop.1980 Pop.1990 Pop.2000 Growth Food\n",
       "1  Buenos Aires    700.0  9918    11448    12822    1.4    40  \n",
       "2  Dhaka           100.0  3290     6578    11511    7.2    63  \n",
       "3  Rio de Janeiro  650.0  8789    10948    12162    2.2    26  \n",
       "4  Sao Paolo       800.0 12101    18119    22552    4.1    50  \n",
       "5  Beijing        1680.0  9029    10867    14366    1.9    52  \n",
       "6  Shanghai        630.0 11739    13447    17407    1.4    55  \n",
       "7  Tianjin         400.0  7268     9249    12508    2.4    52  \n",
       "8  Cairo            21.4  6852     8633    10761    2.3    47  \n",
       "9  Bombay           60.0  8067    12223    18142    4.2    57  \n",
       "10 Calcutta        130.0  9030    10741    12675    1.8    60  \n",
       "11 Delhi            59.1  5559     8171    11692    3.9    40  \n",
       "12 Jakarta          59.0  5985     9206    13380    4.4    45  \n",
       "13 Osaka           200.0  9990    10482    10601    0.5    18  \n",
       "14 Tokyo           216.0 21854    25013    27956    1.4    18  \n",
       "15 Seoul           165.0  8283    10979    12949    2.9    34  \n",
       "16 Mexico City     250.0 13888    15085    16190    0.8    41  \n",
       "17 Lagos            40.0  4385     7742    13480    5.8    58  \n",
       "18 Karachi         353.0  5023     7943    11895    4.7    43  \n",
       "19 Manila           64.0  5966     8882    12582    4.1    38  \n",
       "20 Los Angeles    1660.0  9523    11456    13151    1.9    12  \n",
       "21 New York        359.0 15601    16056    16645    0.3    16  "
      ]
     },
     "metadata": {},
     "output_type": "display_data"
    }
   ],
   "source": [
    "matlan = read.csv(\"cities.csv\")\n",
    "matlan"
   ]
  },
  {
   "cell_type": "code",
   "execution_count": 8,
   "metadata": {},
   "outputs": [
    {
     "data": {
      "text/plain": [
       "\n",
       "Call:\n",
       "lm(formula = Area ~ Growth, data = matlan)\n",
       "\n",
       "Residuals:\n",
       "   Min     1Q Median     3Q    Max \n",
       "-432.3 -262.7 -221.6  102.0 1193.3 \n",
       "\n",
       "Coefficients:\n",
       "            Estimate Std. Error t value Pr(>|t|)   \n",
       "(Intercept)   643.42     193.66   3.322  0.00358 **\n",
       "Growth        -82.47      57.89  -1.425  0.17048   \n",
       "---\n",
       "Signif. codes:  0 '***' 0.001 '**' 0.01 '*' 0.05 '.' 0.1 ' ' 1\n",
       "\n",
       "Residual standard error: 469.8 on 19 degrees of freedom\n",
       "Multiple R-squared:  0.09651,\tAdjusted R-squared:  0.04896 \n",
       "F-statistic:  2.03 on 1 and 19 DF,  p-value: 0.1705\n"
      ]
     },
     "metadata": {},
     "output_type": "display_data"
    }
   ],
   "source": [
    "model <-lm(Area ~ Growth, data=matlan)\n",
    "summary(model)"
   ]
  },
  {
   "cell_type": "markdown",
   "metadata": {},
   "source": [
    "Based on the output above, Let’s understand the output. Values of coefficients $(θs)$  are **643.42** as the *intercept* and **-82.47** as the *slope*, hence prediction equation for model is as below:\n",
    "\n",
    "$Area = 643.42 + (-82.47)*Growth$ \n",
    "\n",
    "with *Residual Error* : **469.8** on **19** *degrees* of freedom\n",
    "\n",
    "Finally, we can add a best fit line (regression line) to our plot by adding the following text at the command line:\n",
    "\n",
    "\n"
   ]
  },
  {
   "cell_type": "code",
   "execution_count": 9,
   "metadata": {},
   "outputs": [
    {
     "data": {
      "image/png": "[encoded data removed]",
      "text/plain": [
       "plot without title"
      ]
     },
     "metadata": {},
     "output_type": "display_data"
    }
   ],
   "source": [
    "plot(Area ~ Growth, data=matlan)\n",
    "abline(model, col = \"red\", lwd = 1)"
   ]
  },
  {
   "cell_type": "code",
   "execution_count": 11,
   "metadata": {},
   "outputs": [
    {
     "data": {
      "text/html": [
       "<strong>1:</strong> -5129.50173375717"
      ],
      "text/latex": [
       "\\textbf{1:} -5129.50173375717"
      ],
      "text/markdown": [
       "**1:** -5129.50173375717"
      ],
      "text/plain": [
       "        1 \n",
       "-5129.502 "
      ]
     },
     "metadata": {},
     "output_type": "display_data"
    }
   ],
   "source": [
    "predict(model, data.frame(Growth = 70))"
   ]
  },
  {
   "cell_type": "code",
   "execution_count": 12,
   "metadata": {},
   "outputs": [
    {
     "data": {
      "text/plain": [
       "\n",
       "Call:\n",
       "lm(formula = Area ~ poly(Growth, degree = 2), data = matlan)\n",
       "\n",
       "Coefficients:\n",
       "              (Intercept)  poly(Growth, degree = 2)1  \n",
       "                    409.4                     -669.3  \n",
       "poly(Growth, degree = 2)2  \n",
       "                   -263.0  \n"
      ]
     },
     "metadata": {},
     "output_type": "display_data"
    },
    {
     "data": {
      "image/png": "[encoded data removed]",
      "text/plain": [
       "plot without title"
      ]
     },
     "metadata": {},
     "output_type": "display_data"
    }
   ],
   "source": [
    "poly_model <- lm(Area ~ poly(Growth,degree=2), data = matlan)\n",
    "poly_model\n",
    "\n",
    "x <- with(matlan, seq(min(Growth), max(Growth), length.out=2000))\n",
    "y <- predict(poly_model, newdata = data.frame(Growth = x))\n",
    "\n",
    "plot(Area ~ Growth, data = matlan)\n",
    "lines(x, y, col = \"red\")"
   ]
  },
  {
   "cell_type": "code",
   "execution_count": null,
   "metadata": {},
   "outputs": [],
   "source": []
  }
 ],
 "metadata": {
  "kernelspec": {
   "display_name": "R",
   "language": "R",
   "name": "ir"
  },
  "language_info": {
   "codemirror_mode": "r",
   "file_extension": ".r",
   "mimetype": "text/x-r-source",
   "name": "R",
   "pygments_lexer": "r",
   "version": "3.5.1"
  }
 },
 "nbformat": 4,
 "nbformat_minor": 2
}
